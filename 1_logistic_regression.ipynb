{
  "nbformat": 4,
  "nbformat_minor": 0,
  "metadata": {
    "colab": {
      "name": "1_logistic_regression.ipynb",
      "provenance": [],
      "collapsed_sections": [],
      "include_colab_link": true
    },
    "kernelspec": {
      "name": "python3",
      "display_name": "Python 3"
    }
  },
  "cells": [
    {
      "cell_type": "markdown",
      "metadata": {
        "id": "view-in-github",
        "colab_type": "text"
      },
      "source": [
        "<a href=\"https://colab.research.google.com/github/Marshmellowon/Mnist_VAE/blob/master/1_logistic_regression.ipynb\" target=\"_parent\"><img src=\"https://colab.research.google.com/assets/colab-badge.svg\" alt=\"Open In Colab\"/></a>"
      ]
    },
    {
      "cell_type": "markdown",
      "metadata": {
        "id": "ArRyePLFPxwC"
      },
      "source": [
        "# **Logistic Regression**\n",
        "Logistic regression for MNIST classification."
      ]
    },
    {
      "cell_type": "code",
      "metadata": {
        "id": "Nt5LfTNnOysI"
      },
      "source": [
        "import numpy as np\n",
        "import tensorflow as tf"
      ],
      "execution_count": null,
      "outputs": []
    },
    {
      "cell_type": "markdown",
      "metadata": {
        "id": "cFn9o6tHUAZV"
      },
      "source": [
        "###**Set training parameters**"
      ]
    },
    {
      "cell_type": "code",
      "metadata": {
        "id": "QxlJYAyyUCr1"
      },
      "source": [
        "# Parameters\n",
        "learning_rate = 0.001\n",
        "training_epochs = 6\n",
        "batch_size = 600"
      ],
      "execution_count": null,
      "outputs": []
    },
    {
      "cell_type": "markdown",
      "metadata": {
        "id": "CIjfyCPNTzSh"
      },
      "source": [
        "###**Load MNIST data**"
      ]
    },
    {
      "cell_type": "code",
      "metadata": {
        "id": "ojuL51EvQHeV"
      },
      "source": [
        "# Import MNIST data\n",
        "(x_train, y_train), (x_test, y_test) = tf.keras.datasets.mnist.load_data()\n",
        "\n",
        "train_dataset = (\n",
        "    tf.data.Dataset.from_tensor_slices((tf.reshape(x_train, [-1, 784]), y_train))\n",
        "    .batch(batch_size)\n",
        "    .shuffle(1000)\n",
        "    )\n",
        "\n",
        "train_dataset = (\n",
        "    train_dataset.map(lambda x, y:\n",
        "                      (tf.divide(tf.cast(x, tf.float32), 255.0),\n",
        "                       tf.reshape(tf.one_hot(y, 10), (-1, 10))))\n",
        "    )"
      ],
      "execution_count": null,
      "outputs": []
    },
    {
      "cell_type": "markdown",
      "metadata": {
        "id": "j3kAVDnmVADJ"
      },
      "source": [
        "###**Set model**\n",
        "> $\\hat{y} = \\sigma(W x + b)$\n",
        "\n",
        "*   $x$ : input (image)\n",
        "*   $y$ : output (label)\n",
        "*   $\\sigma(z) = \\frac{\\exp(z_i)}{\\sum_{i}\\exp(z_i)}$ : softmax function\n",
        "\n",
        "\n"
      ]
    },
    {
      "cell_type": "code",
      "metadata": {
        "id": "IGwv46iRTB4v"
      },
      "source": [
        "# Set model weights\n",
        "W = tf.Variable(tf.zeros([784, 10]))\n",
        "b = tf.Variable(tf.zeros([10]))"
      ],
      "execution_count": null,
      "outputs": []
    },
    {
      "cell_type": "code",
      "metadata": {
        "id": "kqS-AYgTWuis"
      },
      "source": [
        "# Construct model\n",
        "model = lambda x: tf.nn.softmax(tf.matmul(x, W) + b) # Softmax"
      ],
      "execution_count": null,
      "outputs": []
    },
    {
      "cell_type": "markdown",
      "metadata": {
        "id": "2uc4wDieXcS1"
      },
      "source": [
        "###**Train model**\n",
        "\n",
        "* **Method**: Adam\n",
        "* **Loss function**: Binary cross-entropy  \n",
        "> $l(y,\\hat{y}) = -\\frac{1}{d} \\sum_{i=1}^{d} y_i \\cdot \\log{\\hat{y}_i} + (1-y_i) \\cdot \\log{(1-\\hat{y}_i)}$\n",
        ", where $d$ is output dimension.\n"
      ]
    },
    {
      "cell_type": "code",
      "metadata": {
        "id": "nH5QvNvgXcAM"
      },
      "source": [
        "# Minimize error using cross entropy\n",
        "compute_loss = lambda true, pred: tf.reduce_mean(tf.reduce_sum(tf.losses.binary_crossentropy(true, pred), axis=-1))\n",
        "# caculate accuracy\n",
        "compute_accuracy = lambda true, pred: tf.reduce_mean(tf.keras.metrics.categorical_accuracy(true, pred))\n",
        "# Gradient Descent\n",
        "optimizer = tf.optimizers.Adam(learning_rate)"
      ],
      "execution_count": null,
      "outputs": []
    },
    {
      "cell_type": "code",
      "metadata": {
        "colab": {
          "base_uri": "https://localhost:8080/"
        },
        "id": "3ASBGaaFZJCl",
        "outputId": "4af5b12e-1298-4a92-e62f-f16dd309c501"
      },
      "source": [
        "# Run training loop\n",
        "for epoch in range(training_epochs):\n",
        "    for i, (x_, y_) in enumerate(train_dataset):\n",
        "        with tf.GradientTape() as tape:\n",
        "            pred = model(x_)\n",
        "            loss = compute_loss(y_, pred)\n",
        "        acc = compute_accuracy(y_, pred)\n",
        "        grads = tape.gradient(loss, [W, b])\n",
        "        optimizer.apply_gradients(zip(grads, [W, b]))\n",
        "\n",
        "        if i % 20 == 0:\n",
        "          print(\"[{:2d},{:3d}] loss {:5.2f} acc {:2.2f}\".format(epoch, i, loss.numpy(), acc.numpy()))"
      ],
      "execution_count": null,
      "outputs": [
        {
          "output_type": "stream",
          "text": [
            "[ 0,  0] loss 195.05 acc 0.11\n",
            "[ 0, 20] loss 141.07 acc 0.75\n",
            "[ 0, 40] loss 106.28 acc 0.78\n",
            "[ 0, 60] loss 93.08 acc 0.82\n",
            "[ 0, 80] loss 74.17 acc 0.82\n",
            "[ 1,  0] loss 67.64 acc 0.85\n",
            "[ 1, 20] loss 51.30 acc 0.89\n",
            "[ 1, 40] loss 53.48 acc 0.88\n",
            "[ 1, 60] loss 47.90 acc 0.89\n",
            "[ 1, 80] loss 50.61 acc 0.85\n",
            "[ 2,  0] loss 48.35 acc 0.87\n",
            "[ 2, 20] loss 44.80 acc 0.89\n",
            "[ 2, 40] loss 44.16 acc 0.88\n",
            "[ 2, 60] loss 40.36 acc 0.91\n",
            "[ 2, 80] loss 52.53 acc 0.85\n",
            "[ 3,  0] loss 42.18 acc 0.90\n",
            "[ 3, 20] loss 40.84 acc 0.90\n",
            "[ 3, 40] loss 46.46 acc 0.87\n",
            "[ 3, 60] loss 45.40 acc 0.88\n",
            "[ 3, 80] loss 42.78 acc 0.89\n",
            "[ 4,  0] loss 36.60 acc 0.91\n",
            "[ 4, 20] loss 24.79 acc 0.94\n",
            "[ 4, 40] loss 36.62 acc 0.91\n",
            "[ 4, 60] loss 43.43 acc 0.89\n",
            "[ 4, 80] loss 37.80 acc 0.89\n",
            "[ 5,  0] loss 42.18 acc 0.88\n",
            "[ 5, 20] loss 34.42 acc 0.91\n",
            "[ 5, 40] loss 28.97 acc 0.92\n",
            "[ 5, 60] loss 43.32 acc 0.87\n",
            "[ 5, 80] loss 45.93 acc 0.88\n"
          ],
          "name": "stdout"
        }
      ]
    },
    {
      "cell_type": "markdown",
      "metadata": {
        "id": "F4iZSNBXZkTf"
      },
      "source": [
        "###**Test model**\n",
        "Test trained model."
      ]
    },
    {
      "cell_type": "code",
      "metadata": {
        "id": "DVrwZ0wyZjQ6"
      },
      "source": [
        "# Select test data\n",
        "num_test_sel = 4\n",
        "num_test = x_test.shape[0]\n",
        "idx_rand = np.random.permutation(np.arange(0, num_test))\n",
        "idx_rand_sel = idx_rand[0:num_test_sel]\n",
        "\n",
        "x_sel = x_test[idx_rand_sel, :, :]\n",
        "y_sel = y_test[idx_rand_sel]\n",
        "\n",
        "_x_in = tf.divide(tf.cast(x_sel, tf.float32), 255.0)\n",
        "x_in = tf.reshape(_x_in, [-1, 784])\n",
        "y_out = model(x_in)\n",
        "y_out = y_out.numpy()\n",
        "y_sel_pred = np.argmax(y_out, axis=1)"
      ],
      "execution_count": null,
      "outputs": []
    },
    {
      "cell_type": "code",
      "metadata": {
        "colab": {
          "base_uri": "https://localhost:8080/",
          "height": 990
        },
        "id": "TgWAMvMIr4on",
        "outputId": "10d53dc1-fe83-4a8a-b027-ad66dceb36fc"
      },
      "source": [
        "# Plot test result\n",
        "import matplotlib.pyplot as plt\n",
        "from matplotlib import gridspec\n",
        "barx = np.arange(0,10)\n",
        "\n",
        "fig = plt.figure(figsize=(8, 4.25 * num_test_sel)) \n",
        "gs = gridspec.GridSpec(nrows=num_test_sel,\n",
        "                       ncols=2,\n",
        "                       height_ratios=[1]*num_test_sel, \n",
        "                       width_ratios=[1, 1]\n",
        "                       )\n",
        "\n",
        "for nidx_d in range(0, num_test_sel):\n",
        "  x_sel_plot = x_sel[nidx_d, :, :]\n",
        "  y_sel_plot = y_sel[nidx_d]\n",
        "  y_out_plot = y_out[nidx_d, :]\n",
        "  y_sel_pred_plot = y_sel_pred[nidx_d]\n",
        "  ax0 = plt.subplot(gs[nidx_d, 0])\n",
        "  ax0.imshow(x_sel_plot)\n",
        "  ax0.title.set_text('Input image: {:d}'.format(y_sel_plot))\n",
        "  ax0.title.set_fontsize(16)\n",
        "\n",
        "  ax1 = plt.subplot(gs[nidx_d, 1])\n",
        "  ax1.bar(barx, y_out_plot.reshape(-1))\n",
        "  plt.xticks(barx)\n",
        "  ax1.title.set_text('Classification result: {:d}'.format(y_sel_pred_plot))\n",
        "  ax1.title.set_fontsize(16)\n",
        "\n",
        "plt.show()"
      ],
      "execution_count": null,
      "outputs": [
        {
          "output_type": "display_data",
          "data": {
            "image/png": "[encoded data removed]",
            "text/plain": [
              "<Figure size 576x1224 with 8 Axes>"
            ]
          },
          "metadata": {
            "tags": [],
            "needs_background": "light"
          }
        }
      ]
    }
  ]
}