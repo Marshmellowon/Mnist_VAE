{
  "nbformat": 4,
  "nbformat_minor": 0,
  "metadata": {
    "colab": {
      "name": "VAE.ipynb",
      "provenance": [],
      "collapsed_sections": [],
      "authorship_tag": "ABX9TyN3eYpHn0KgSaYiq4e36YuV",
      "include_colab_link": true
    },
    "kernelspec": {
      "name": "python3",
      "display_name": "Python 3"
    }
  },
  "cells": [
    {
      "cell_type": "markdown",
      "metadata": {
        "id": "view-in-github",
        "colab_type": "text"
      },
      "source": [
        "<a href=\"https://colab.research.google.com/github/Marshmellowon/Mnist_VAE/blob/main/VAE.ipynb\" target=\"_parent\"><img src=\"https://colab.research.google.com/assets/colab-badge.svg\" alt=\"Open In Colab\"/></a>"
      ]
    },
    {
      "cell_type": "markdown",
      "metadata": {
        "id": "JFsr_erFWphP"
      },
      "source": [
        "# Variational Auto Encoder"
      ]
    },
    {
      "cell_type": "code",
      "metadata": {
        "id": "v5NH53p3W39G"
      },
      "source": [
        "import tensorflow as tf\r\n",
        "import numpy as np\r\n",
        "import matplotlib.pyplot as plt"
      ],
      "execution_count": 69,
      "outputs": []
    },
    {
      "cell_type": "code",
      "metadata": {
        "colab": {
          "base_uri": "https://localhost:8080/"
        },
        "id": "Ct-rQgpZd3kI",
        "outputId": "280a5bfb-360a-4aa2-e44c-238d7b030bdf"
      },
      "source": [
        "from tensorflow.keras.datasets import mnist\r\n",
        "from tensorflow.keras.models import Model\r\n",
        "from tensorflow.keras import layers, losses\r\n",
        "\r\n",
        "(x_train, y_train),(x_test, y_test) = mnist.load_data()\r\n",
        "\r\n",
        "x_train = x_train.astype('float32') / 255.\r\n",
        "x_test = x_test.astype('float32') / 255.\r\n",
        "\r\n",
        "print(x_train.shape) #(60000, 28, 28)\r\n",
        "print(y_train.shape) #(60000,)"
      ],
      "execution_count": 70,
      "outputs": [
        {
          "output_type": "stream",
          "text": [
            "(60000, 28, 28)\n",
            "(60000,)\n"
          ],
          "name": "stdout"
        }
      ]
    },
    {
      "cell_type": "code",
      "metadata": {
        "id": "t4bwF4kSjtjG"
      },
      "source": [
        "latent_dim = 64 \r\n",
        "\r\n",
        "class Autoencoder(Model):\r\n",
        "  def __init__(self, encoding_dim):\r\n",
        "    super(Autoencoder, self).__init__()\r\n",
        "    \r\n",
        "    self.latent_dim = latent_dim   \r\n",
        "    \r\n",
        "    '''Encoder'''\r\n",
        "    self.encoder = tf.keras.Sequential()\r\n",
        "    self.encoder.add(layers.Flatten())\r\n",
        "    \r\n",
        "    for i in range(2):\r\n",
        "        self.encoder.add(Dense(256))\r\n",
        "        self.encoder.add(layers.BatchNormalization())\r\n",
        "        self.encoder.add(layers.Activation(tf.keras.activations.relu))\r\n",
        "\r\n",
        "    self.encoder.add(Dense(latent_dim))\r\n",
        "\r\n",
        "\r\n",
        "      # layers.Flatten(),\r\n",
        "      # layers.Dense(latent_dim, activation='relu'),\r\n",
        "    \r\n",
        "\r\n",
        "    '''Decoder'''\r\n",
        "    self.decoder = tf.keras.Sequential()\r\n",
        "    for i in range(2):\r\n",
        "        self.decoder.add(Dense(256))\r\n",
        "        self.decoder.add(layers.BatchNormalization())\r\n",
        "        self.decoder.add(layers.Activation(tf.keras.activations.sigmoid))\r\n",
        "\r\n",
        "\r\n",
        "    self.decoder.add(Dense(784, activation='sigmoid'))\r\n",
        "    self.decoder.add(layers.Reshape((28,28)))\r\n",
        "\r\n",
        "    \r\n",
        "    #   layers.Dense(784, activation='sigmoid'),\r\n",
        "    #   layers.Reshape((28, 28))\r\n",
        "    \r\n",
        "\r\n",
        "  def call(self, x):\r\n",
        "    encoded = self.encoder(x)\r\n",
        "    decoded = self.decoder(encoded)\r\n",
        "    return decoded\r\n",
        "\r\n",
        "autoencoder = Autoencoder(latent_dim)\r\n",
        "\r\n",
        "autoencoder.compile(optimizer='adam', loss=losses.MeanSquaredError())"
      ],
      "execution_count": 71,
      "outputs": []
    },
    {
      "cell_type": "code",
      "metadata": {
        "colab": {
          "base_uri": "https://localhost:8080/"
        },
        "id": "_GDwRMDL13Zo",
        "outputId": "38b201d8-5365-4bf7-9724-832f8adefffe"
      },
      "source": [
        "autoencoder.fit(x_train, x_train,\r\n",
        "                epochs=10,\r\n",
        "                shuffle=True,\r\n",
        "                validation_data=(x_test, x_test))"
      ],
      "execution_count": 72,
      "outputs": [
        {
          "output_type": "stream",
          "text": [
            "Epoch 1/10\n",
            "1875/1875 [==============================] - 16s 8ms/step - loss: 0.0394 - val_loss: 0.0124\n",
            "Epoch 2/10\n",
            "1875/1875 [==============================] - 14s 8ms/step - loss: 0.0131 - val_loss: 0.0090\n",
            "Epoch 3/10\n",
            "1875/1875 [==============================] - 14s 8ms/step - loss: 0.0106 - val_loss: 0.0077\n",
            "Epoch 4/10\n",
            "1875/1875 [==============================] - 14s 8ms/step - loss: 0.0094 - val_loss: 0.0071\n",
            "Epoch 5/10\n",
            "1875/1875 [==============================] - 14s 8ms/step - loss: 0.0087 - val_loss: 0.0066\n",
            "Epoch 6/10\n",
            "1875/1875 [==============================] - 14s 8ms/step - loss: 0.0081 - val_loss: 0.0062\n",
            "Epoch 7/10\n",
            "1875/1875 [==============================] - 14s 8ms/step - loss: 0.0077 - val_loss: 0.0059\n",
            "Epoch 8/10\n",
            "1875/1875 [==============================] - 14s 8ms/step - loss: 0.0074 - val_loss: 0.0057\n",
            "Epoch 9/10\n",
            "1875/1875 [==============================] - 15s 8ms/step - loss: 0.0071 - val_loss: 0.0055\n",
            "Epoch 10/10\n",
            "1875/1875 [==============================] - 14s 8ms/step - loss: 0.0070 - val_loss: 0.0053\n"
          ],
          "name": "stdout"
        },
        {
          "output_type": "execute_result",
          "data": {
            "text/plain": [
              "<tensorflow.python.keras.callbacks.History at 0x7f10e42ba748>"
            ]
          },
          "metadata": {
            "tags": []
          },
          "execution_count": 72
        }
      ]
    },
    {
      "cell_type": "code",
      "metadata": {
        "id": "kD7speL5162i"
      },
      "source": [
        "encoded_imgs = autoencoder.encoder(x_test).numpy()\r\n",
        "decoded_imgs = autoencoder.decoder(encoded_imgs).numpy()"
      ],
      "execution_count": 73,
      "outputs": []
    },
    {
      "cell_type": "code",
      "metadata": {
        "colab": {
          "base_uri": "https://localhost:8080/",
          "height": 264
        },
        "id": "KvhKG_X319h_",
        "outputId": "00794192-bc3c-4f7a-b1d3-47c984605571"
      },
      "source": [
        "n = 10\r\n",
        "plt.figure(figsize=(20, 4))\r\n",
        "for i in range(n):\r\n",
        "  # display original\r\n",
        "  ax = plt.subplot(2, n, i + 1)\r\n",
        "  plt.imshow(x_test[i])\r\n",
        "  plt.title(\"original\")\r\n",
        "  plt.gray()\r\n",
        "  ax.get_xaxis().set_visible(False)\r\n",
        "  ax.get_yaxis().set_visible(False)\r\n",
        "\r\n",
        "  # display reconstruction\r\n",
        "  ax = plt.subplot(2, n, i + 1 + n)\r\n",
        "  plt.imshow(decoded_imgs[i])\r\n",
        "  plt.title(\"reconstructed\")\r\n",
        "  plt.gray()\r\n",
        "  ax.get_xaxis().set_visible(False)\r\n",
        "  ax.get_yaxis().set_visible(False)\r\n",
        "plt.show()"
      ],
      "execution_count": 74,
      "outputs": [
        {
          "output_type": "display_data",
          "data": {
            "image/png": "[encoded data removed]",
            "text/plain": [
              "<Figure size 1440x288 with 20 Axes>"
            ]
          },
          "metadata": {
            "tags": [],
            "needs_background": "light"
          }
        }
      ]
    },
    {
      "cell_type": "markdown",
      "metadata": {
        "id": "Xcj3RMQ8YHH6"
      },
      "source": [
        "Epoch 1/10\r\n",
        "1875/1875 [==============================] - 5s 2ms/step - loss: 0.0439 - val_loss: 0.0094\r\n",
        "Epoch 2/10\r\n",
        "1875/1875 [==============================] - 4s 2ms/step - loss: 0.0081 - val_loss: 0.0054\r\n",
        "Epoch 3/10\r\n",
        "1875/1875 [==============================] - 4s 2ms/step - loss: 0.0053 - val_loss: 0.0046\r\n",
        "Epoch 4/10\r\n",
        "1875/1875 [==============================] - 4s 2ms/step - loss: 0.0047 - val_loss: 0.0044\r\n",
        "Epoch 5/10\r\n",
        "1875/1875 [==============================] - 4s 2ms/step - loss: 0.0044 - val_loss: 0.0042\r\n",
        "Epoch 6/10\r\n",
        "1875/1875 [==============================] - 4s 2ms/step - loss: 0.0043 - val_loss: 0.0041\r\n",
        "Epoch 7/10\r\n",
        "1875/1875 [==============================] - 4s 2ms/step - loss: 0.0042 - val_loss: 0.0040\r\n",
        "Epoch 8/10\r\n",
        "1875/1875 [==============================] - 4s 2ms/step - loss: 0.0041 - val_loss: 0.0040\r\n",
        "Epoch 9/10\r\n",
        "1875/1875 [==============================] - 4s 2ms/step - loss: 0.0041 - val_loss: 0.0040\r\n",
        "Epoch 10/10\r\n",
        "1875/1875 [==============================] - 4s 2ms/step - loss: 0.0040 - val_loss: 0.0039\r\n",
        "<tensorflow.python.keras.callbacks.History at 0x7f10ea893588>"
      ]
    },
    {
      "cell_type": "markdown",
      "metadata": {
        "id": "evUke97oY7P4"
      },
      "source": [
        "# encoder 변형\r\n",
        "Epoch 1/10\r\n",
        "1875/1875 [==============================] - 10s 5ms/step - loss: 0.0347 - val_loss: 0.0084\r\n",
        "Epoch 2/10\r\n",
        "1875/1875 [==============================] - 9s 5ms/step - loss: 0.0100 - val_loss: 0.0066\r\n",
        "Epoch 3/10\r\n",
        "1875/1875 [==============================] - 9s 5ms/step - loss: 0.0081 - val_loss: 0.0056\r\n",
        "Epoch 4/10\r\n",
        "1875/1875 [==============================] - 9s 5ms/step - loss: 0.0072 - val_loss: 0.0051\r\n",
        "Epoch 5/10\r\n",
        "1875/1875 [==============================] - 9s 5ms/step - loss: 0.0066 - val_loss: 0.0047\r\n",
        "Epoch 6/10\r\n",
        "1875/1875 [==============================] - 9s 5ms/step - loss: 0.0062 - val_loss: 0.0045\r\n",
        "Epoch 7/10\r\n",
        "1875/1875 [==============================] - 9s 5ms/step - loss: 0.0058 - val_loss: 0.0041\r\n",
        "Epoch 8/10\r\n",
        "1875/1875 [==============================] - 9s 5ms/step - loss: 0.0056 - val_loss: 0.0040\r\n",
        "Epoch 9/10\r\n",
        "1875/1875 [==============================] - 9s 5ms/step - loss: 0.0053 - val_loss: 0.0039\r\n",
        "Epoch 10/10\r\n",
        "1875/1875 [==============================] - 9s 5ms/step - loss: 0.0050 - val_loss: 0.0037\r\n",
        "<tensorflow.python.keras.callbacks.History at 0x7f10e5f8e4a8>"
      ]
    }
  ]
}