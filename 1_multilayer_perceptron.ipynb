{
  "nbformat": 4,
  "nbformat_minor": 0,
  "metadata": {
    "colab": {
      "name": "1_multilayer_perceptron.ipynb",
      "provenance": [],
      "collapsed_sections": [],
      "include_colab_link": true
    },
    "kernelspec": {
      "name": "python3",
      "display_name": "Python 3"
    }
  },
  "cells": [
    {
      "cell_type": "markdown",
      "metadata": {
        "id": "view-in-github",
        "colab_type": "text"
      },
      "source": [
        "<a href=\"https://colab.research.google.com/github/Marshmellowon/Mnist_VAE/blob/master/1_multilayer_perceptron.ipynb\" target=\"_parent\"><img src=\"https://colab.research.google.com/assets/colab-badge.svg\" alt=\"Open In Colab\"/></a>"
      ]
    },
    {
      "cell_type": "markdown",
      "metadata": {
        "id": "ftnAaVjAJE3b"
      },
      "source": [
        "# **Multilayer Perceptron (MLP)**\n",
        "A multilayer perceptron (MLP) is a class of feedforward artificial neural network (ANN).\n",
        "\n",
        "Use MLP for MNIST classification."
      ]
    },
    {
      "cell_type": "code",
      "metadata": {
        "id": "KUNegAXFInja"
      },
      "source": [
        "import numpy as np\n",
        "import tensorflow as tf"
      ],
      "execution_count": null,
      "outputs": []
    },
    {
      "cell_type": "markdown",
      "metadata": {
        "id": "M_laM38RKPDV"
      },
      "source": [
        "###**Set training parameters**\n"
      ]
    },
    {
      "cell_type": "code",
      "metadata": {
        "id": "Bw8syUIzKMym"
      },
      "source": [
        "# Parameters\n",
        "learning_rate = 0.001\n",
        "training_epochs = 3000\n",
        "batch_size = 100\n",
        "display_step = 300"
      ],
      "execution_count": null,
      "outputs": []
    },
    {
      "cell_type": "markdown",
      "metadata": {
        "id": "mqqCCGRhLkZo"
      },
      "source": [
        "###**Load MNIST data**\n",
        "Set train & test data"
      ]
    },
    {
      "cell_type": "code",
      "metadata": {
        "colab": {
          "base_uri": "https://localhost:8080/"
        },
        "id": "UhCJqbZpKk9X",
        "outputId": "70ea1bf8-04df-4536-eff9-62ecfb2b1667"
      },
      "source": [
        "(x_train, y_train), (x_test, y_test) = tf.keras.datasets.mnist.load_data()\n",
        "# Convert to float32.\n",
        "x_train, x_test = np.array(x_train, np.float32), np.array(x_test, np.float32)\n",
        "# Flatten images to 1-D vector of 784 features (28*28).\n",
        "x_train, x_test = x_train.reshape([-1, 784]), x_test.reshape([-1, 784])\n",
        "# Normalize images value from [0, 255] to [0, 1].\n",
        "x_train, x_test = x_train / 255., x_test / 255.\n",
        "\n",
        "# Use tf.data API to shuffle and batch data.\n",
        "train_data = tf.data.Dataset.from_tensor_slices((x_train, y_train))\n",
        "train_data = train_data.repeat().shuffle(5000).batch(batch_size).prefetch(1)"
      ],
      "execution_count": null,
      "outputs": [
        {
          "output_type": "stream",
          "text": [
            "Downloading data from https://storage.googleapis.com/tensorflow/tf-keras-datasets/mnist.npz\n",
            "11493376/11490434 [==============================] - 0s 0us/step\n"
          ],
          "name": "stdout"
        }
      ]
    },
    {
      "cell_type": "markdown",
      "metadata": {
        "id": "EmqRdAAhMae9"
      },
      "source": [
        "###**Set model**\n",
        "Two-layered MLP.\n",
        "\n",
        "> $h_1 = S(W_1 x + b_1)$ \n",
        "\n",
        "> $h_2 = S(W_2 h_1 + b_2)$ \n",
        "\n",
        "> $\\hat{y} = \\sigma(W_3 h_2 + b_3)$\n",
        "\n",
        "*   $x$ : input (image)\n",
        "*   $y$ : output (label)\n",
        "*   $S(z) = \\frac{1}{1+exp(-z)}$ : sigmoid function\n",
        "*   $\\sigma(z) = \\frac{\\exp(z_i)}{\\sum_{i}\\exp(z_i)}$ : softmax function"
      ]
    },
    {
      "cell_type": "code",
      "metadata": {
        "id": "uQBAXNSJL2Lb"
      },
      "source": [
        "# Network Parameters\n",
        "n_hidden_1 = 256 # 1st layer number of neurons\n",
        "n_hidden_2 = 256 # 2nd layer number of neurons\n",
        "n_input = 784 # MNIST data input (img shape: 28*28)\n",
        "n_classes = 10 # MNIST total classes (0-9 digits)"
      ],
      "execution_count": null,
      "outputs": []
    },
    {
      "cell_type": "code",
      "metadata": {
        "id": "Nu-kYbutMzyD"
      },
      "source": [
        "# Store layers weight & bias\n",
        "weights = {\n",
        "    'W1': tf.Variable(tf.random.normal([n_input, n_hidden_1])),\n",
        "    'W2': tf.Variable(tf.random.normal([n_hidden_1, n_hidden_2])),\n",
        "    'W3': tf.Variable(tf.random.normal([n_hidden_2, n_classes]))\n",
        "}\n",
        "biases = {\n",
        "    'b1': tf.Variable(tf.random.normal([n_hidden_1])),\n",
        "    'b2': tf.Variable(tf.random.normal([n_hidden_2])),\n",
        "    'b3': tf.Variable(tf.random.normal([n_classes]))\n",
        "}"
      ],
      "execution_count": null,
      "outputs": []
    },
    {
      "cell_type": "code",
      "metadata": {
        "id": "Pjvu6OgbNq3N"
      },
      "source": [
        "# Create model\n",
        "def multilayer_perceptron(x):\n",
        "    # Hidden fully connected layer with 256 neurons\n",
        "    layer_1 = tf.add(tf.matmul(x, weights['W1']), biases['b1'])\n",
        "    layer_1 = tf.nn.sigmoid(layer_1)\n",
        "    # Hidden fully connected layer with 256 neurons\n",
        "    layer_2 = tf.add(tf.matmul(layer_1, weights['W2']), biases['b2'])\n",
        "    # Output fully connected layer with a neuron for each class\n",
        "    layer_2 = tf.nn.sigmoid(layer_2)\n",
        "    output = tf.matmul(layer_2, weights['W3']) + biases['b3']\n",
        "    return tf.nn.softmax(output)"
      ],
      "execution_count": null,
      "outputs": []
    },
    {
      "cell_type": "markdown",
      "metadata": {
        "id": "-Aw0bH1pN_MD"
      },
      "source": [
        "###**Train model**\n",
        "\n",
        "* **Method**: Stochastic Gradient Descent (SGD)\n",
        "* **Loss function**: Binary cross-entropy  \n",
        "> $l(y,\\hat{y}) = -\\frac{1}{d} \\sum_{i=1}^{d} y_i \\cdot \\log{\\hat{y}_i} + (1-y_i) \\cdot \\log{(1-\\hat{y}_i)}$\n",
        ", where $d$ is output dimension."
      ]
    },
    {
      "cell_type": "code",
      "metadata": {
        "id": "l8YT_p7DOAjy"
      },
      "source": [
        "# Cross-Entropy loss function.\n",
        "def cross_entropy(y_pred, y_true):\n",
        "    # Encode label to a one hot vector.\n",
        "    y_true = tf.one_hot(y_true, depth=10)\n",
        "    # Clip prediction values to avoid log(0) error.\n",
        "    y_pred = tf.clip_by_value(y_pred, 1e-9, 1.)\n",
        "    # Compute cross-entropy.\n",
        "    return tf.reduce_mean(-tf.reduce_sum(y_true * tf.math.log(y_pred)))\n",
        "\n",
        "# Accuracy metric.\n",
        "def accuracy(y_pred, y_true):\n",
        "    # Predicted class is the index of highest score in prediction vector (i.e. argmax).\n",
        "    correct_prediction = tf.equal(tf.argmax(y_pred, 1), tf.cast(y_true, tf.int64))\n",
        "    return tf.reduce_mean(tf.cast(correct_prediction, tf.float32), axis=-1)\n",
        "\n",
        "# Stochastic gradient descent optimizer.\n",
        "optimizer = tf.optimizers.SGD(learning_rate)"
      ],
      "execution_count": null,
      "outputs": []
    },
    {
      "cell_type": "code",
      "metadata": {
        "id": "iWubGJn9OUCH"
      },
      "source": [
        "# Optimization process. \n",
        "def train_step(x, y):\n",
        "    # Wrap computation inside a GradientTape for automatic differentiation.\n",
        "    with tf.GradientTape() as tape:\n",
        "        pred = multilayer_perceptron(x)\n",
        "        loss = cross_entropy(pred, y)\n",
        "        \n",
        "    # Variables to update, i.e. trainable variables.\n",
        "    trainable_variables = list(weights.values()) + list(biases.values())\n",
        "\n",
        "    # Compute gradients.\n",
        "    gradients = tape.gradient(loss, trainable_variables)\n",
        "    \n",
        "    # Update W and b following gradients.\n",
        "    optimizer.apply_gradients(zip(gradients, trainable_variables))"
      ],
      "execution_count": null,
      "outputs": []
    },
    {
      "cell_type": "code",
      "metadata": {
        "colab": {
          "base_uri": "https://localhost:8080/"
        },
        "id": "InKTzdFSOXyU",
        "outputId": "f081db00-4cc5-438f-e47b-fa40e7bf6703"
      },
      "source": [
        "# Run training for the given number of steps.\n",
        "for step, (batch_x, batch_y) in enumerate(train_data.take(training_epochs), 1):\n",
        "    # Run the optimization to update W and b values.\n",
        "    train_step(batch_x, batch_y)\n",
        "    \n",
        "    if (step+1) % display_step == 0:\n",
        "        pred = multilayer_perceptron(batch_x)\n",
        "        loss  = cross_entropy(pred, batch_y)\n",
        "        acc  = accuracy(pred, batch_y)\n",
        "        print(\"step: %i, loss: %f, accuracy: %f\" % (step+1, loss, acc))"
      ],
      "execution_count": null,
      "outputs": [
        {
          "output_type": "stream",
          "text": [
            "step: 300, loss: 77.868912, accuracy: 0.800000\n",
            "step: 600, loss: 60.735500, accuracy: 0.780000\n",
            "step: 900, loss: 73.050545, accuracy: 0.760000\n",
            "step: 1200, loss: 38.587265, accuracy: 0.870000\n",
            "step: 1500, loss: 48.342949, accuracy: 0.860000\n",
            "step: 1800, loss: 33.105919, accuracy: 0.940000\n",
            "step: 2100, loss: 35.929817, accuracy: 0.890000\n",
            "step: 2400, loss: 36.794552, accuracy: 0.840000\n",
            "step: 2700, loss: 27.622402, accuracy: 0.900000\n",
            "step: 3000, loss: 44.290558, accuracy: 0.870000\n"
          ],
          "name": "stdout"
        }
      ]
    },
    {
      "cell_type": "markdown",
      "metadata": {
        "id": "IsKgB6jeOm7I"
      },
      "source": [
        "###**Test model**\n",
        "Test trained MLP model."
      ]
    },
    {
      "cell_type": "code",
      "metadata": {
        "id": "LYgvCXwEO6q2"
      },
      "source": [
        "# Select test data\n",
        "num_test_sel = 4\n",
        "num_test = x_test.shape[0]\n",
        "idx_rand = np.random.permutation(np.arange(0, num_test))\n",
        "idx_rand_sel = idx_rand[0:num_test_sel]\n",
        "\n",
        "x_sel = x_test[idx_rand_sel, :]\n",
        "y_sel = y_test[idx_rand_sel]\n",
        "\n",
        "x_in = tf.reshape(x_sel, [-1, 784])\n",
        "y_out = multilayer_perceptron(x_in)\n",
        "y_out = y_out.numpy()\n",
        "y_sel_pred = np.argmax(y_out, axis=1)"
      ],
      "execution_count": null,
      "outputs": []
    },
    {
      "cell_type": "code",
      "metadata": {
        "colab": {
          "base_uri": "https://localhost:8080/",
          "height": 990
        },
        "id": "lzp6XBeUPNDj",
        "outputId": "d204fe7d-fef6-4518-f3fe-c67af13a45b1"
      },
      "source": [
        "# Plot test result\n",
        "import matplotlib.pyplot as plt\n",
        "from matplotlib import gridspec\n",
        "barx = np.arange(0,10)\n",
        "\n",
        "fig = plt.figure(figsize=(8, 4.25 * num_test_sel)) \n",
        "gs = gridspec.GridSpec(nrows=num_test_sel,\n",
        "                       ncols=2,\n",
        "                       height_ratios=[1]*num_test_sel, \n",
        "                       width_ratios=[1, 1]\n",
        "                       )\n",
        "\n",
        "for nidx_d in range(0, num_test_sel):\n",
        "  _x_sel_plot = x_sel[nidx_d, :]\n",
        "  x_sel_plot = np.reshape(_x_sel_plot, (28, 28))\n",
        "  y_sel_plot = y_sel[nidx_d]\n",
        "  y_out_plot = y_out[nidx_d, :]\n",
        "  y_sel_pred_plot = y_sel_pred[nidx_d]\n",
        "  ax0 = plt.subplot(gs[nidx_d, 0])\n",
        "  ax0.imshow(x_sel_plot)\n",
        "  ax0.title.set_text('Input image: {:d}'.format(y_sel_plot))\n",
        "  ax0.title.set_fontsize(16)\n",
        "\n",
        "  ax1 = plt.subplot(gs[nidx_d, 1])\n",
        "  ax1.bar(barx, y_out_plot.reshape(-1))\n",
        "  plt.xticks(barx)\n",
        "  ax1.title.set_text('Classification result: {:d}'.format(y_sel_pred_plot))\n",
        "  ax1.title.set_fontsize(16)\n",
        "\n",
        "plt.show()"
      ],
      "execution_count": null,
      "outputs": [
        {
          "output_type": "display_data",
          "data": {
            "image/png": "[encoded data removed]",
            "text/plain": [
              "<Figure size 576x1224 with 8 Axes>"
            ]
          },
          "metadata": {
            "tags": [],
            "needs_background": "light"
          }
        }
      ]
    }
  ]
}