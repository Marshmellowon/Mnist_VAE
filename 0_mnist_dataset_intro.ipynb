{
  "nbformat": 4,
  "nbformat_minor": 0,
  "metadata": {
    "colab": {
      "name": "0_mnist_dataset_intro.ipynb",
      "provenance": [],
      "collapsed_sections": [],
      "include_colab_link": true
    },
    "kernelspec": {
      "name": "python3",
      "display_name": "Python 3"
    }
  },
  "cells": [
    {
      "cell_type": "markdown",
      "metadata": {
        "id": "view-in-github",
        "colab_type": "text"
      },
      "source": [
        "<a href=\"https://colab.research.google.com/github/Marshmellowon/Mnist_VAE/blob/master/0_mnist_dataset_intro.ipynb\" target=\"_parent\"><img src=\"https://colab.research.google.com/assets/colab-badge.svg\" alt=\"Open In Colab\"/></a>"
      ]
    },
    {
      "cell_type": "markdown",
      "metadata": {
        "id": "Dmp4OQ5Vi405"
      },
      "source": [
        "# **MNIST Dataset Introduction**\n",
        "\n",
        "Most examples are using MNIST dataset of handwritten digits. The dataset contains 60,000 examples for training and 10,000 examples for testing. The digits have been size-normalized and centered in a fixed-size image (28x28 pixels) with values from 0 to 1. For simplicity, each image has been flatten and converted to a 1-D numpy array of 784 features (28*28).\n",
        "\n"
      ]
    },
    {
      "cell_type": "code",
      "metadata": {
        "colab": {
          "base_uri": "https://localhost:8080/"
        },
        "id": "fPPQ6u23gp5O",
        "outputId": "b2f23af3-3698-41ab-96ed-7650078bee39"
      },
      "source": [
        "# Load dataset\n",
        "from tensorflow.keras import datasets\n",
        "\n",
        "(xs, ys),_ = datasets.mnist.load_data()\n",
        "\n",
        "print('datasets:', xs.shape, ys.shape, xs.min(), xs.max())"
      ],
      "execution_count": null,
      "outputs": [
        {
          "output_type": "stream",
          "text": [
            "datasets: (60000, 28, 28) (60000,) 0 255\n"
          ],
          "name": "stdout"
        }
      ]
    },
    {
      "cell_type": "code",
      "metadata": {
        "id": "sXMk0skfQpJf"
      },
      "source": [
        ""
      ],
      "execution_count": null,
      "outputs": []
    },
    {
      "cell_type": "code",
      "metadata": {
        "colab": {
          "base_uri": "https://localhost:8080/",
          "height": 313
        },
        "id": "WZ-zETU-kgE2",
        "outputId": "8a072f2e-329c-42e4-ea58-40afb00730f5"
      },
      "source": [
        "# Show data\n",
        "import matplotlib.pyplot as plt\n",
        "\n",
        "fig, axs = plt.subplots(2, 5)\n",
        "fig.set_size_inches(10, 5)\n",
        "for row in range(0, 2):\n",
        "  for col in range(0, 5):\n",
        "    y_tmp = row * 5 + col\n",
        "    _idx = np.where(ys == y_tmp)\n",
        "    _idx = _idx[0]\n",
        "    idx = _idx[np.random.randint(len(_idx))]\n",
        "\n",
        "    x = xs[idx, :, :]\n",
        "    y = ys[idx]\n",
        "    axs[row,col].imshow(x)\n",
        "\n",
        "    plt.sca(axs[row,col])\n",
        "    plt.title(y, fontsize=20)\n",
        "\n",
        "#Actually displaying the plot if you are not in interactive mode\n",
        "plt.show()"
      ],
      "execution_count": null,
      "outputs": [
        {
          "output_type": "display_data",
          "data": {
            "image/png": "[encoded data removed]",
            "text/plain": [
              "<Figure size 720x360 with 10 Axes>"
            ]
          },
          "metadata": {
            "tags": [],
            "needs_background": "light"
          }
        }
      ]
    }
  ]
}